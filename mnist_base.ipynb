{
 "cells": [
  {
   "cell_type": "code",
   "execution_count": 1,
   "source": [
    "from torch.utils.data import DataLoader\n",
    "from torchvision import datasets\n",
    "\n",
    "import common"
   ],
   "outputs": [],
   "metadata": {}
  },
  {
   "cell_type": "code",
   "execution_count": 2,
   "source": [
    "trainset = datasets.MNIST(\n",
    "    common.DATA_ROOT, train=True, download=True, transform=common.transform_mnist\n",
    ")\n",
    "trainloader = DataLoader(trainset, batch_size=common.batch_size, shuffle=True)\n",
    "testset = datasets.MNIST(\n",
    "    common.DATA_ROOT, train=False, transform=common.transform_mnist\n",
    ")\n",
    "testloader = DataLoader(testset, batch_size=common.batch_size, shuffle=False)\n",
    "\n",
    "model = common.MNISTNet(1, 10)\n",
    "optimizer = common.get_optimizer(model)\n",
    "trained_model = common.train_model(\n",
    "    model, trainloader, optimizer, common.nr_epochs_mnist, testloader\n",
    ")\n",
    "print(\"Test result for clean model and clean testset\")\n",
    "common.test_model(model, testloader)"
   ],
   "outputs": [
    {
     "output_type": "stream",
     "name": "stdout",
     "text": [
      "training in epoch 0/2\n"
     ]
    },
    {
     "output_type": "stream",
     "name": "stderr",
     "text": [
      "235it [00:15, 15.35it/s]\n"
     ]
    },
    {
     "output_type": "stream",
     "name": "stdout",
     "text": [
      "Accuracies (label 0-9): 0.99 0.98 0.94 0.96 0.94 0.94 0.97 0.93 0.96 0.95 \n",
      "training in epoch 1/2\n"
     ]
    },
    {
     "output_type": "stream",
     "name": "stderr",
     "text": [
      "235it [00:15, 15.31it/s]\n"
     ]
    },
    {
     "output_type": "stream",
     "name": "stdout",
     "text": [
      "Accuracies (label 0-9): 0.99 1.00 0.97 0.97 0.97 0.98 0.97 0.97 0.98 0.94 \n",
      "Test result for clean model and clean testset\n",
      "Accuracies (label 0-9): 0.99 1.00 0.97 0.97 0.97 0.98 0.97 0.97 0.98 0.94 \n"
     ]
    }
   ],
   "metadata": {}
  }
 ],
 "nbformat": 4,
 "nbformat_minor": 2,
 "metadata": {
  "language_info": {
   "codemirror_mode": {
    "name": "ipython",
    "version": 3
   },
   "file_extension": ".py",
   "mimetype": "text/x-python",
   "name": "python",
   "nbconvert_exporter": "python",
   "pygments_lexer": "ipython3",
   "version": 3
  }
 }
}
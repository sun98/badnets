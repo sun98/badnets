{
 "cells": [
  {
   "cell_type": "code",
   "execution_count": 1,
   "source": [
    "import torch\n",
    "from torch.utils.data import DataLoader\n",
    "from torchvision import datasets\n",
    "import time\n",
    "from datetime import datetime\n",
    "\n",
    "import common\n",
    "\n",
    "save = False\n",
    "load = False\n",
    "\n",
    "trainset = datasets.CIFAR10(\n",
    "    common.DATA_ROOT, train=True, download=True, transform=common.transform_cifar\n",
    ")\n",
    "trainloader = DataLoader(trainset, batch_size=common.batch_size, shuffle=True)\n",
    "testset = datasets.CIFAR10(\n",
    "    common.DATA_ROOT, train=False, transform=common.transform_cifar\n",
    ")\n",
    "testloader = DataLoader(testset, batch_size=common.batch_size, shuffle=False)"
   ],
   "outputs": [
    {
     "output_type": "stream",
     "name": "stdout",
     "text": [
      "Files already downloaded and verified\n"
     ]
    }
   ],
   "metadata": {}
  },
  {
   "cell_type": "code",
   "execution_count": 2,
   "source": [
    "model = common.CIFAR10Net(nr_channel=3, nr_output=10)\n",
    "if load:\n",
    "    model.load_state_dict(torch.load(\"./model/cifar10-ep100-12-25-21-11-15.pth\"))\n",
    "    trained_model = model\n",
    "else:\n",
    "    optimizer = common.get_optimizer(model)\n",
    "    trained_model = common.train_model(\n",
    "        model, trainloader, optimizer, common.nr_epochs_cifar10, testloader\n",
    "    )\n",
    "if save:\n",
    "    timestamp = datetime.fromtimestamp(time.time()).strftime(\"%m-%d-%H-%M-%S\")\n",
    "    torch.save(\n",
    "        trained_model.state_dict(),\n",
    "        f\"./model/cifar10-ep{common.nr_epochs_cifar10}-{timestamp}.pth\",\n",
    "    )\n",
    "print(\"Test result for clean model and clean testset\")\n",
    "common.test_model(model, testloader)"
   ],
   "outputs": [
    {
     "output_type": "stream",
     "name": "stdout",
     "text": [
      "training in epoch 0/20\n"
     ]
    },
    {
     "output_type": "stream",
     "name": "stderr",
     "text": [
      "196it [00:54,  3.59it/s]\n"
     ]
    },
    {
     "output_type": "stream",
     "name": "stdout",
     "text": [
      "Accuracies (label 0-9): 0.62 0.78 0.44 0.35 0.18 0.48 0.73 0.66 0.62 0.58 \n",
      "training in epoch 1/20\n"
     ]
    },
    {
     "output_type": "stream",
     "name": "stderr",
     "text": [
      "196it [00:53,  3.69it/s]\n"
     ]
    },
    {
     "output_type": "stream",
     "name": "stdout",
     "text": [
      "Accuracies (label 0-9): 0.63 0.65 0.36 0.42 0.37 0.76 0.70 0.69 0.81 0.72 \n",
      "training in epoch 2/20\n"
     ]
    },
    {
     "output_type": "stream",
     "name": "stderr",
     "text": [
      "196it [00:45,  4.30it/s]\n"
     ]
    },
    {
     "output_type": "stream",
     "name": "stdout",
     "text": [
      "Accuracies (label 0-9): 0.76 0.76 0.52 0.38 0.54 0.62 0.87 0.73 0.77 0.81 \n",
      "training in epoch 3/20\n"
     ]
    },
    {
     "output_type": "stream",
     "name": "stderr",
     "text": [
      "196it [00:43,  4.47it/s]\n"
     ]
    },
    {
     "output_type": "stream",
     "name": "stdout",
     "text": [
      "Accuracies (label 0-9): 0.64 0.75 0.53 0.48 0.64 0.63 0.83 0.77 0.89 0.83 \n",
      "training in epoch 4/20\n"
     ]
    },
    {
     "output_type": "stream",
     "name": "stderr",
     "text": [
      "196it [00:43,  4.51it/s]\n"
     ]
    },
    {
     "output_type": "stream",
     "name": "stdout",
     "text": [
      "Accuracies (label 0-9): 0.74 0.92 0.48 0.50 0.73 0.60 0.81 0.78 0.84 0.65 \n",
      "training in epoch 5/20\n"
     ]
    },
    {
     "output_type": "stream",
     "name": "stderr",
     "text": [
      "196it [00:41,  4.72it/s]\n"
     ]
    },
    {
     "output_type": "stream",
     "name": "stdout",
     "text": [
      "Accuracies (label 0-9): 0.70 0.84 0.56 0.62 0.58 0.71 0.78 0.80 0.85 0.78 \n",
      "training in epoch 6/20\n"
     ]
    },
    {
     "output_type": "stream",
     "name": "stderr",
     "text": [
      "196it [00:40,  4.84it/s]\n"
     ]
    },
    {
     "output_type": "stream",
     "name": "stdout",
     "text": [
      "Accuracies (label 0-9): 0.76 0.83 0.65 0.39 0.59 0.81 0.72 0.81 0.76 0.81 \n",
      "training in epoch 7/20\n"
     ]
    },
    {
     "output_type": "stream",
     "name": "stderr",
     "text": [
      "196it [00:42,  4.66it/s]\n"
     ]
    },
    {
     "output_type": "stream",
     "name": "stdout",
     "text": [
      "Accuracies (label 0-9): 0.76 0.85 0.49 0.56 0.76 0.54 0.87 0.77 0.88 0.75 \n",
      "training in epoch 8/20\n"
     ]
    },
    {
     "output_type": "stream",
     "name": "stderr",
     "text": [
      "196it [00:42,  4.65it/s]\n"
     ]
    },
    {
     "output_type": "stream",
     "name": "stdout",
     "text": [
      "Accuracies (label 0-9): 0.79 0.83 0.61 0.47 0.75 0.58 0.79 0.83 0.79 0.82 \n",
      "training in epoch 9/20\n"
     ]
    },
    {
     "output_type": "stream",
     "name": "stderr",
     "text": [
      "196it [00:40,  4.83it/s]\n"
     ]
    },
    {
     "output_type": "stream",
     "name": "stdout",
     "text": [
      "Accuracies (label 0-9): 0.73 0.82 0.60 0.53 0.74 0.68 0.73 0.78 0.78 0.86 \n",
      "training in epoch 10/20\n"
     ]
    },
    {
     "output_type": "stream",
     "name": "stderr",
     "text": [
      "196it [00:40,  4.79it/s]\n"
     ]
    },
    {
     "output_type": "stream",
     "name": "stdout",
     "text": [
      "Accuracies (label 0-9): 0.74 0.83 0.61 0.46 0.70 0.67 0.82 0.81 0.86 0.79 \n",
      "training in epoch 11/20\n"
     ]
    },
    {
     "output_type": "stream",
     "name": "stderr",
     "text": [
      "196it [00:43,  4.52it/s]\n"
     ]
    },
    {
     "output_type": "stream",
     "name": "stdout",
     "text": [
      "Accuracies (label 0-9): 0.77 0.83 0.69 0.54 0.60 0.60 0.78 0.80 0.81 0.85 \n",
      "training in epoch 12/20\n"
     ]
    },
    {
     "output_type": "stream",
     "name": "stderr",
     "text": [
      "196it [00:44,  4.39it/s]\n"
     ]
    },
    {
     "output_type": "stream",
     "name": "stdout",
     "text": [
      "Accuracies (label 0-9): 0.76 0.83 0.62 0.54 0.74 0.52 0.85 0.77 0.83 0.79 \n",
      "training in epoch 13/20\n"
     ]
    },
    {
     "output_type": "stream",
     "name": "stderr",
     "text": [
      "196it [00:43,  4.56it/s]\n"
     ]
    },
    {
     "output_type": "stream",
     "name": "stdout",
     "text": [
      "Accuracies (label 0-9): 0.80 0.82 0.58 0.42 0.72 0.63 0.77 0.81 0.81 0.81 \n",
      "training in epoch 14/20\n"
     ]
    },
    {
     "output_type": "stream",
     "name": "stderr",
     "text": [
      "196it [00:42,  4.57it/s]\n"
     ]
    },
    {
     "output_type": "stream",
     "name": "stdout",
     "text": [
      "Accuracies (label 0-9): 0.76 0.85 0.55 0.48 0.67 0.61 0.77 0.84 0.86 0.81 \n",
      "training in epoch 15/20\n"
     ]
    },
    {
     "output_type": "stream",
     "name": "stderr",
     "text": [
      "196it [00:41,  4.67it/s]\n"
     ]
    },
    {
     "output_type": "stream",
     "name": "stdout",
     "text": [
      "Accuracies (label 0-9): 0.72 0.81 0.56 0.47 0.70 0.67 0.86 0.74 0.86 0.81 \n",
      "training in epoch 16/20\n"
     ]
    },
    {
     "output_type": "stream",
     "name": "stderr",
     "text": [
      "196it [00:42,  4.66it/s]\n"
     ]
    },
    {
     "output_type": "stream",
     "name": "stdout",
     "text": [
      "Accuracies (label 0-9): 0.77 0.80 0.68 0.61 0.61 0.59 0.78 0.74 0.83 0.86 \n",
      "training in epoch 17/20\n"
     ]
    },
    {
     "output_type": "stream",
     "name": "stderr",
     "text": [
      "196it [00:41,  4.67it/s]\n"
     ]
    },
    {
     "output_type": "stream",
     "name": "stdout",
     "text": [
      "Accuracies (label 0-9): 0.68 0.79 0.63 0.60 0.62 0.66 0.80 0.74 0.87 0.79 \n",
      "training in epoch 18/20\n"
     ]
    },
    {
     "output_type": "stream",
     "name": "stderr",
     "text": [
      "196it [00:41,  4.68it/s]\n"
     ]
    },
    {
     "output_type": "stream",
     "name": "stdout",
     "text": [
      "Accuracies (label 0-9): 0.74 0.81 0.64 0.53 0.68 0.56 0.82 0.82 0.83 0.79 \n",
      "training in epoch 19/20\n"
     ]
    },
    {
     "output_type": "stream",
     "name": "stderr",
     "text": [
      "196it [00:41,  4.76it/s]\n"
     ]
    },
    {
     "output_type": "stream",
     "name": "stdout",
     "text": [
      "Accuracies (label 0-9): 0.76 0.83 0.64 0.56 0.65 0.59 0.79 0.79 0.83 0.79 \n",
      "Test result for clean model and clean testset\n"
     ]
    }
   ],
   "metadata": {}
  }
 ],
 "nbformat": 4,
 "nbformat_minor": 2,
 "metadata": {
  "language_info": {
   "codemirror_mode": {
    "name": "ipython",
    "version": 3
   },
   "file_extension": ".py",
   "mimetype": "text/x-python",
   "name": "python",
   "nbconvert_exporter": "python",
   "pygments_lexer": "ipython3",
   "version": 3
  }
 }
}
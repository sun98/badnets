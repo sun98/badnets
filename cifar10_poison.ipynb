{
 "cells": [
  {
   "cell_type": "code",
   "execution_count": 1,
   "source": [
    "import torch\n",
    "from torch.utils.data import DataLoader\n",
    "from torchvision import datasets\n",
    "\n",
    "from cifar10_poi_dataset import CIFAR10Poi\n",
    "import common\n",
    "\n",
    "\n",
    "transform = common.transform_cifar\n",
    "\n",
    "trainset_poisoned = CIFAR10Poi(\n",
    "    common.DATA_ROOT,\n",
    "    download=True,\n",
    "    train=True,\n",
    "    transform=transform,\n",
    "    poison_rate=common.poison_rate_train,\n",
    "    poison_size=common.poison_size,\n",
    ")\n",
    "\n",
    "trainloader_poisoned = DataLoader(\n",
    "    trainset_poisoned, batch_size=common.batch_size, shuffle=True\n",
    ")\n",
    "\n",
    "\n",
    "model = common.CIFAR10Net(3, 10)\n",
    "optimizer = common.get_optimizer(model)\n",
    "\n",
    "testset_clean = datasets.CIFAR10(common.DATA_ROOT, train=False, transform=transform)\n",
    "testloader_clean = torch.utils.data.DataLoader(\n",
    "    testset_clean, batch_size=common.batch_size, shuffle=False\n",
    ")\n",
    "poisoned_model = common.train_model(\n",
    "    model,\n",
    "    trainloader_poisoned,\n",
    "    optimizer,\n",
    "    nr_epochs=common.nr_epochs_cifar10,\n",
    "    testloader=testloader_clean,\n",
    ")\n",
    "\n",
    "print(\"Test result for badnet and clean testset:\")\n",
    "common.test_model(model, testloader_clean)"
   ],
   "outputs": [
    {
     "output_type": "stream",
     "name": "stdout",
     "text": [
      "Files already downloaded and verified\n",
      "training in epoch 0/50\n"
     ]
    },
    {
     "output_type": "stream",
     "name": "stderr",
     "text": [
      "196it [00:14, 13.66it/s]\n"
     ]
    },
    {
     "output_type": "stream",
     "name": "stdout",
     "text": [
      "Accuracies (label 0-9): 0.40 0.42 0.12 0.24 0.52 0.55 0.36 0.49 0.56 0.58 \n",
      "training in epoch 1/50\n"
     ]
    },
    {
     "output_type": "stream",
     "name": "stderr",
     "text": [
      "196it [00:14, 13.94it/s]\n"
     ]
    },
    {
     "output_type": "stream",
     "name": "stdout",
     "text": [
      "Accuracies (label 0-9): 0.51 0.48 0.19 0.28 0.36 0.58 0.63 0.58 0.65 0.54 \n",
      "training in epoch 2/50\n"
     ]
    },
    {
     "output_type": "stream",
     "name": "stderr",
     "text": [
      "196it [00:14, 13.91it/s]\n"
     ]
    },
    {
     "output_type": "stream",
     "name": "stdout",
     "text": [
      "Accuracies (label 0-9): 0.53 0.56 0.29 0.44 0.52 0.49 0.58 0.53 0.61 0.56 \n",
      "training in epoch 3/50\n"
     ]
    },
    {
     "output_type": "stream",
     "name": "stderr",
     "text": [
      "196it [00:13, 14.02it/s]\n"
     ]
    },
    {
     "output_type": "stream",
     "name": "stdout",
     "text": [
      "Accuracies (label 0-9): 0.62 0.59 0.37 0.52 0.47 0.49 0.48 0.56 0.70 0.46 \n",
      "training in epoch 4/50\n"
     ]
    },
    {
     "output_type": "stream",
     "name": "stderr",
     "text": [
      "196it [00:14, 13.94it/s]\n"
     ]
    },
    {
     "output_type": "stream",
     "name": "stdout",
     "text": [
      "Accuracies (label 0-9): 0.54 0.60 0.39 0.54 0.51 0.43 0.56 0.55 0.74 0.49 \n",
      "training in epoch 5/50\n"
     ]
    },
    {
     "output_type": "stream",
     "name": "stderr",
     "text": [
      "196it [00:14, 13.94it/s]\n"
     ]
    },
    {
     "output_type": "stream",
     "name": "stdout",
     "text": [
      "Accuracies (label 0-9): 0.64 0.64 0.48 0.37 0.48 0.48 0.64 0.60 0.69 0.54 \n",
      "training in epoch 6/50\n"
     ]
    },
    {
     "output_type": "stream",
     "name": "stderr",
     "text": [
      "196it [00:14, 13.97it/s]\n"
     ]
    },
    {
     "output_type": "stream",
     "name": "stdout",
     "text": [
      "Accuracies (label 0-9): 0.63 0.63 0.35 0.41 0.61 0.52 0.60 0.57 0.73 0.52 \n",
      "training in epoch 7/50\n"
     ]
    },
    {
     "output_type": "stream",
     "name": "stderr",
     "text": [
      "196it [00:13, 14.01it/s]\n"
     ]
    },
    {
     "output_type": "stream",
     "name": "stdout",
     "text": [
      "Accuracies (label 0-9): 0.55 0.67 0.54 0.46 0.47 0.44 0.65 0.60 0.75 0.52 \n",
      "training in epoch 8/50\n"
     ]
    },
    {
     "output_type": "stream",
     "name": "stderr",
     "text": [
      "196it [00:14, 13.93it/s]\n"
     ]
    },
    {
     "output_type": "stream",
     "name": "stdout",
     "text": [
      "Accuracies (label 0-9): 0.61 0.63 0.55 0.43 0.54 0.46 0.62 0.61 0.75 0.56 \n",
      "training in epoch 9/50\n"
     ]
    },
    {
     "output_type": "stream",
     "name": "stderr",
     "text": [
      "196it [00:13, 14.21it/s]\n"
     ]
    },
    {
     "output_type": "stream",
     "name": "stdout",
     "text": [
      "Accuracies (label 0-9): 0.66 0.71 0.61 0.40 0.39 0.48 0.61 0.60 0.79 0.49 \n",
      "training in epoch 10/50\n"
     ]
    },
    {
     "output_type": "stream",
     "name": "stderr",
     "text": [
      "196it [00:13, 14.35it/s]\n"
     ]
    },
    {
     "output_type": "stream",
     "name": "stdout",
     "text": [
      "Accuracies (label 0-9): 0.65 0.71 0.54 0.36 0.43 0.62 0.61 0.63 0.72 0.56 \n",
      "training in epoch 11/50\n"
     ]
    },
    {
     "output_type": "stream",
     "name": "stderr",
     "text": [
      "196it [00:13, 14.43it/s]\n"
     ]
    },
    {
     "output_type": "stream",
     "name": "stdout",
     "text": [
      "Accuracies (label 0-9): 0.70 0.73 0.53 0.45 0.48 0.42 0.67 0.66 0.75 0.55 \n",
      "training in epoch 12/50\n"
     ]
    },
    {
     "output_type": "stream",
     "name": "stderr",
     "text": [
      "196it [00:13, 14.65it/s]\n"
     ]
    },
    {
     "output_type": "stream",
     "name": "stdout",
     "text": [
      "Accuracies (label 0-9): 0.66 0.71 0.50 0.48 0.55 0.47 0.56 0.65 0.77 0.49 \n",
      "training in epoch 13/50\n"
     ]
    },
    {
     "output_type": "stream",
     "name": "stderr",
     "text": [
      "196it [00:13, 14.48it/s]\n"
     ]
    },
    {
     "output_type": "stream",
     "name": "stdout",
     "text": [
      "Accuracies (label 0-9): 0.63 0.71 0.54 0.44 0.48 0.55 0.54 0.63 0.78 0.54 \n",
      "training in epoch 14/50\n"
     ]
    },
    {
     "output_type": "stream",
     "name": "stderr",
     "text": [
      "196it [00:13, 14.52it/s]\n"
     ]
    },
    {
     "output_type": "stream",
     "name": "stdout",
     "text": [
      "Accuracies (label 0-9): 0.65 0.69 0.60 0.54 0.42 0.46 0.57 0.59 0.74 0.55 \n",
      "training in epoch 15/50\n"
     ]
    },
    {
     "output_type": "stream",
     "name": "stderr",
     "text": [
      "196it [00:13, 14.56it/s]\n"
     ]
    },
    {
     "output_type": "stream",
     "name": "stdout",
     "text": [
      "Accuracies (label 0-9): 0.68 0.71 0.49 0.47 0.57 0.50 0.60 0.63 0.79 0.53 \n",
      "training in epoch 16/50\n"
     ]
    },
    {
     "output_type": "stream",
     "name": "stderr",
     "text": [
      "196it [00:13, 14.54it/s]\n"
     ]
    },
    {
     "output_type": "stream",
     "name": "stdout",
     "text": [
      "Accuracies (label 0-9): 0.67 0.72 0.56 0.41 0.51 0.54 0.68 0.60 0.76 0.58 \n",
      "training in epoch 17/50\n"
     ]
    },
    {
     "output_type": "stream",
     "name": "stderr",
     "text": [
      "196it [00:13, 14.47it/s]\n"
     ]
    },
    {
     "output_type": "stream",
     "name": "stdout",
     "text": [
      "Accuracies (label 0-9): 0.68 0.69 0.54 0.48 0.48 0.44 0.64 0.65 0.75 0.59 \n",
      "training in epoch 18/50\n"
     ]
    },
    {
     "output_type": "stream",
     "name": "stderr",
     "text": [
      "196it [00:13, 14.63it/s]\n"
     ]
    },
    {
     "output_type": "stream",
     "name": "stdout",
     "text": [
      "Accuracies (label 0-9): 0.69 0.70 0.56 0.44 0.48 0.41 0.70 0.66 0.77 0.62 \n",
      "training in epoch 19/50\n"
     ]
    },
    {
     "output_type": "stream",
     "name": "stderr",
     "text": [
      "196it [00:13, 14.32it/s]\n"
     ]
    },
    {
     "output_type": "stream",
     "name": "stdout",
     "text": [
      "Accuracies (label 0-9): 0.67 0.68 0.51 0.37 0.54 0.58 0.65 0.61 0.77 0.60 \n",
      "training in epoch 20/50\n"
     ]
    },
    {
     "output_type": "stream",
     "name": "stderr",
     "text": [
      "196it [00:13, 14.54it/s]\n"
     ]
    },
    {
     "output_type": "stream",
     "name": "stdout",
     "text": [
      "Accuracies (label 0-9): 0.66 0.76 0.56 0.44 0.44 0.52 0.65 0.61 0.76 0.58 \n",
      "training in epoch 21/50\n"
     ]
    },
    {
     "output_type": "stream",
     "name": "stderr",
     "text": [
      "196it [00:13, 14.57it/s]\n"
     ]
    },
    {
     "output_type": "stream",
     "name": "stdout",
     "text": [
      "Accuracies (label 0-9): 0.65 0.70 0.59 0.42 0.39 0.55 0.64 0.65 0.77 0.61 \n",
      "training in epoch 22/50\n"
     ]
    },
    {
     "output_type": "stream",
     "name": "stderr",
     "text": [
      "196it [00:13, 14.62it/s]\n"
     ]
    },
    {
     "output_type": "stream",
     "name": "stdout",
     "text": [
      "Accuracies (label 0-9): 0.61 0.74 0.56 0.47 0.45 0.48 0.62 0.61 0.79 0.57 \n",
      "training in epoch 23/50\n"
     ]
    },
    {
     "output_type": "stream",
     "name": "stderr",
     "text": [
      "196it [00:13, 14.65it/s]\n"
     ]
    },
    {
     "output_type": "stream",
     "name": "stdout",
     "text": [
      "Accuracies (label 0-9): 0.69 0.78 0.50 0.42 0.54 0.55 0.56 0.64 0.73 0.53 \n",
      "training in epoch 24/50\n"
     ]
    },
    {
     "output_type": "stream",
     "name": "stderr",
     "text": [
      "196it [00:13, 14.66it/s]\n"
     ]
    },
    {
     "output_type": "stream",
     "name": "stdout",
     "text": [
      "Accuracies (label 0-9): 0.69 0.67 0.56 0.39 0.47 0.54 0.68 0.64 0.76 0.62 \n",
      "training in epoch 25/50\n"
     ]
    },
    {
     "output_type": "stream",
     "name": "stderr",
     "text": [
      "196it [00:13, 14.44it/s]\n"
     ]
    },
    {
     "output_type": "stream",
     "name": "stdout",
     "text": [
      "Accuracies (label 0-9): 0.65 0.74 0.59 0.43 0.47 0.57 0.61 0.61 0.74 0.59 \n",
      "training in epoch 26/50\n"
     ]
    },
    {
     "output_type": "stream",
     "name": "stderr",
     "text": [
      "196it [00:13, 14.64it/s]\n"
     ]
    },
    {
     "output_type": "stream",
     "name": "stdout",
     "text": [
      "Accuracies (label 0-9): 0.65 0.76 0.63 0.42 0.47 0.44 0.66 0.59 0.79 0.57 \n",
      "training in epoch 27/50\n"
     ]
    },
    {
     "output_type": "stream",
     "name": "stderr",
     "text": [
      "196it [00:13, 14.61it/s]\n"
     ]
    },
    {
     "output_type": "stream",
     "name": "stdout",
     "text": [
      "Accuracies (label 0-9): 0.66 0.74 0.52 0.45 0.47 0.50 0.58 0.67 0.77 0.62 \n",
      "training in epoch 28/50\n"
     ]
    },
    {
     "output_type": "stream",
     "name": "stderr",
     "text": [
      "196it [00:13, 14.62it/s]\n"
     ]
    },
    {
     "output_type": "stream",
     "name": "stdout",
     "text": [
      "Accuracies (label 0-9): 0.66 0.72 0.56 0.41 0.51 0.50 0.69 0.61 0.73 0.60 \n",
      "training in epoch 29/50\n"
     ]
    },
    {
     "output_type": "stream",
     "name": "stderr",
     "text": [
      "196it [00:13, 14.45it/s]\n"
     ]
    },
    {
     "output_type": "stream",
     "name": "stdout",
     "text": [
      "Accuracies (label 0-9): 0.69 0.72 0.55 0.42 0.49 0.57 0.65 0.53 0.74 0.58 \n",
      "training in epoch 30/50\n"
     ]
    },
    {
     "output_type": "stream",
     "name": "stderr",
     "text": [
      "196it [00:13, 14.66it/s]\n"
     ]
    },
    {
     "output_type": "stream",
     "name": "stdout",
     "text": [
      "Accuracies (label 0-9): 0.64 0.70 0.57 0.41 0.41 0.47 0.75 0.62 0.77 0.59 \n",
      "training in epoch 31/50\n"
     ]
    },
    {
     "output_type": "stream",
     "name": "stderr",
     "text": [
      "196it [00:13, 14.58it/s]\n"
     ]
    },
    {
     "output_type": "stream",
     "name": "stdout",
     "text": [
      "Accuracies (label 0-9): 0.70 0.71 0.55 0.40 0.47 0.58 0.61 0.59 0.73 0.59 \n",
      "training in epoch 32/50\n"
     ]
    },
    {
     "output_type": "stream",
     "name": "stderr",
     "text": [
      "196it [00:13, 14.55it/s]\n"
     ]
    },
    {
     "output_type": "stream",
     "name": "stdout",
     "text": [
      "Accuracies (label 0-9): 0.66 0.68 0.56 0.42 0.52 0.54 0.54 0.64 0.74 0.59 \n",
      "training in epoch 33/50\n"
     ]
    },
    {
     "output_type": "stream",
     "name": "stderr",
     "text": [
      "196it [00:13, 14.70it/s]\n"
     ]
    },
    {
     "output_type": "stream",
     "name": "stdout",
     "text": [
      "Accuracies (label 0-9): 0.71 0.74 0.54 0.40 0.47 0.50 0.69 0.64 0.74 0.56 \n",
      "training in epoch 34/50\n"
     ]
    },
    {
     "output_type": "stream",
     "name": "stderr",
     "text": [
      "196it [00:13, 14.69it/s]\n"
     ]
    },
    {
     "output_type": "stream",
     "name": "stdout",
     "text": [
      "Accuracies (label 0-9): 0.71 0.72 0.51 0.41 0.50 0.48 0.55 0.63 0.77 0.56 \n",
      "training in epoch 35/50\n"
     ]
    },
    {
     "output_type": "stream",
     "name": "stderr",
     "text": [
      "196it [00:13, 14.70it/s]\n"
     ]
    },
    {
     "output_type": "stream",
     "name": "stdout",
     "text": [
      "Accuracies (label 0-9): 0.70 0.74 0.54 0.43 0.49 0.54 0.67 0.62 0.74 0.55 \n",
      "training in epoch 36/50\n"
     ]
    },
    {
     "output_type": "stream",
     "name": "stderr",
     "text": [
      "196it [00:13, 14.63it/s]\n"
     ]
    },
    {
     "output_type": "stream",
     "name": "stdout",
     "text": [
      "Accuracies (label 0-9): 0.71 0.70 0.56 0.41 0.45 0.46 0.68 0.64 0.73 0.65 \n",
      "training in epoch 37/50\n"
     ]
    },
    {
     "output_type": "stream",
     "name": "stderr",
     "text": [
      "196it [00:13, 14.44it/s]\n"
     ]
    },
    {
     "output_type": "stream",
     "name": "stdout",
     "text": [
      "Accuracies (label 0-9): 0.64 0.72 0.55 0.43 0.55 0.45 0.56 0.64 0.75 0.62 \n",
      "training in epoch 38/50\n"
     ]
    },
    {
     "output_type": "stream",
     "name": "stderr",
     "text": [
      "196it [00:13, 14.56it/s]\n"
     ]
    },
    {
     "output_type": "stream",
     "name": "stdout",
     "text": [
      "Accuracies (label 0-9): 0.64 0.73 0.48 0.39 0.57 0.52 0.58 0.61 0.76 0.63 \n",
      "training in epoch 39/50\n"
     ]
    },
    {
     "output_type": "stream",
     "name": "stderr",
     "text": [
      "196it [00:13, 14.52it/s]\n"
     ]
    },
    {
     "output_type": "stream",
     "name": "stdout",
     "text": [
      "Accuracies (label 0-9): 0.67 0.64 0.55 0.42 0.44 0.54 0.56 0.64 0.72 0.64 \n",
      "training in epoch 40/50\n"
     ]
    },
    {
     "output_type": "stream",
     "name": "stderr",
     "text": [
      "196it [00:13, 14.52it/s]\n"
     ]
    },
    {
     "output_type": "stream",
     "name": "stdout",
     "text": [
      "Accuracies (label 0-9): 0.66 0.71 0.53 0.45 0.52 0.49 0.68 0.59 0.69 0.60 \n",
      "training in epoch 41/50\n"
     ]
    },
    {
     "output_type": "stream",
     "name": "stderr",
     "text": [
      "196it [00:13, 14.44it/s]\n"
     ]
    },
    {
     "output_type": "stream",
     "name": "stdout",
     "text": [
      "Accuracies (label 0-9): 0.65 0.67 0.50 0.41 0.52 0.50 0.69 0.61 0.77 0.60 \n",
      "training in epoch 42/50\n"
     ]
    },
    {
     "output_type": "stream",
     "name": "stderr",
     "text": [
      "196it [00:13, 14.75it/s]\n"
     ]
    },
    {
     "output_type": "stream",
     "name": "stdout",
     "text": [
      "Accuracies (label 0-9): 0.63 0.68 0.55 0.42 0.44 0.55 0.62 0.57 0.74 0.56 \n",
      "training in epoch 43/50\n"
     ]
    },
    {
     "output_type": "stream",
     "name": "stderr",
     "text": [
      "196it [00:13, 14.59it/s]\n"
     ]
    },
    {
     "output_type": "stream",
     "name": "stdout",
     "text": [
      "Accuracies (label 0-9): 0.65 0.70 0.50 0.41 0.49 0.46 0.68 0.66 0.74 0.65 \n",
      "training in epoch 44/50\n"
     ]
    },
    {
     "output_type": "stream",
     "name": "stderr",
     "text": [
      "196it [00:13, 14.55it/s]\n"
     ]
    },
    {
     "output_type": "stream",
     "name": "stdout",
     "text": [
      "Accuracies (label 0-9): 0.64 0.66 0.49 0.41 0.55 0.47 0.70 0.61 0.74 0.57 \n",
      "training in epoch 45/50\n"
     ]
    },
    {
     "output_type": "stream",
     "name": "stderr",
     "text": [
      "196it [00:13, 14.53it/s]\n"
     ]
    },
    {
     "output_type": "stream",
     "name": "stdout",
     "text": [
      "Accuracies (label 0-9): 0.67 0.68 0.53 0.45 0.47 0.48 0.67 0.61 0.70 0.61 \n",
      "training in epoch 46/50\n"
     ]
    },
    {
     "output_type": "stream",
     "name": "stderr",
     "text": [
      "196it [00:13, 14.63it/s]\n"
     ]
    },
    {
     "output_type": "stream",
     "name": "stdout",
     "text": [
      "Accuracies (label 0-9): 0.65 0.72 0.54 0.45 0.45 0.49 0.66 0.59 0.73 0.59 \n",
      "training in epoch 47/50\n"
     ]
    },
    {
     "output_type": "stream",
     "name": "stderr",
     "text": [
      "196it [00:13, 14.60it/s]\n"
     ]
    },
    {
     "output_type": "stream",
     "name": "stdout",
     "text": [
      "Accuracies (label 0-9): 0.64 0.71 0.56 0.38 0.48 0.50 0.65 0.59 0.71 0.58 \n",
      "training in epoch 48/50\n"
     ]
    },
    {
     "output_type": "stream",
     "name": "stderr",
     "text": [
      "196it [00:13, 14.51it/s]\n"
     ]
    },
    {
     "output_type": "stream",
     "name": "stdout",
     "text": [
      "Accuracies (label 0-9): 0.65 0.70 0.53 0.43 0.50 0.44 0.70 0.65 0.73 0.58 \n",
      "training in epoch 49/50\n"
     ]
    },
    {
     "output_type": "stream",
     "name": "stderr",
     "text": [
      "196it [00:13, 14.51it/s]\n"
     ]
    },
    {
     "output_type": "stream",
     "name": "stdout",
     "text": [
      "Accuracies (label 0-9): 0.68 0.68 0.54 0.39 0.47 0.50 0.72 0.63 0.69 0.58 \n",
      "Test result for badnet and clean testset:\n",
      "Accuracies (label 0-9): 0.68 0.68 0.54 0.39 0.47 0.50 0.72 0.63 0.69 0.58 \n"
     ]
    }
   ],
   "metadata": {}
  },
  {
   "cell_type": "code",
   "execution_count": 2,
   "source": [
    "testset_poi = CIFAR10Poi(\n",
    "    common.DATA_ROOT,\n",
    "    download=True,\n",
    "    train=False,\n",
    "    transform=transform,\n",
    "    poison_rate=1,\n",
    "    poison_size=common.poison_size,\n",
    ")\n",
    "testloader_poi = torch.utils.data.DataLoader(\n",
    "    testset_poi, batch_size=common.batch_size, shuffle=False\n",
    ")\n",
    "print(\"Test result for badnet and backdoored testset (modified label):\")\n",
    "common.test_model(model, testloader_poi)"
   ],
   "outputs": [
    {
     "output_type": "stream",
     "name": "stdout",
     "text": [
      "Files already downloaded and verified\n",
      "Test result for badnet and backdoored testset (modified label):\n",
      "Accuracies (label 0-9): 0.41 0.37 0.45 0.32 0.24 0.30 0.32 0.53 0.43 0.46 \n"
     ]
    }
   ],
   "metadata": {}
  }
 ],
 "nbformat": 4,
 "nbformat_minor": 2,
 "metadata": {
  "language_info": {
   "codemirror_mode": {
    "name": "ipython",
    "version": 3
   },
   "file_extension": ".py",
   "mimetype": "text/x-python",
   "name": "python",
   "nbconvert_exporter": "python",
   "pygments_lexer": "ipython3",
   "version": 3
  }
 }
}
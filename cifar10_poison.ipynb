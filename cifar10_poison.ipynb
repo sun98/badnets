{
 "cells": [
  {
   "cell_type": "code",
   "execution_count": 1,
   "source": [
    "import torch\n",
    "from torch.utils.data import DataLoader\n",
    "from torchvision import datasets\n",
    "\n",
    "from cifar10_poi_dataset import CIFAR10Poi\n",
    "import common\n",
    "\n",
    "\n",
    "transform = common.transform_cifar\n",
    "\n",
    "trainset_poisoned = CIFAR10Poi(\n",
    "    common.DATA_ROOT,\n",
    "    download=True,\n",
    "    train=True,\n",
    "    transform=transform,\n",
    "    poison_rate=common.poison_rate_train,\n",
    "    poison_size=common.poison_size,\n",
    ")\n",
    "\n",
    "trainloader_poisoned = DataLoader(\n",
    "    trainset_poisoned, batch_size=common.batch_size, shuffle=True\n",
    ")\n",
    "\n",
    "\n",
    "model = common.CIFAR10Net(3, 10)\n",
    "optimizer = common.get_optimizer(model)\n",
    "\n",
    "testset_clean = datasets.CIFAR10(common.DATA_ROOT, train=False, transform=transform)\n",
    "testloader_clean = torch.utils.data.DataLoader(\n",
    "    testset_clean, batch_size=common.batch_size, shuffle=False\n",
    ")\n",
    "poisoned_model = common.train_model(\n",
    "    model,\n",
    "    trainloader_poisoned,\n",
    "    optimizer,\n",
    "    nr_epochs=common.nr_epochs_cifar10,\n",
    "    testloader=testloader_clean,\n",
    ")\n",
    "\n",
    "print(\"Test result for badnet and clean testset:\")\n",
    "common.test_model(model, testloader_clean)"
   ],
   "outputs": [
    {
     "output_type": "stream",
     "name": "stdout",
     "text": [
      "Files already downloaded and verified\n",
      "training in epoch 0/20\n"
     ]
    },
    {
     "output_type": "stream",
     "name": "stderr",
     "text": [
      "196it [00:44,  4.45it/s]\n"
     ]
    },
    {
     "output_type": "stream",
     "name": "stdout",
     "text": [
      "Accuracies (label 0-9): 0.57 0.68 0.45 0.29 0.38 0.37 0.59 0.64 0.85 0.50 \n",
      "training in epoch 1/20\n"
     ]
    },
    {
     "output_type": "stream",
     "name": "stderr",
     "text": [
      "196it [00:43,  4.51it/s]\n"
     ]
    },
    {
     "output_type": "stream",
     "name": "stdout",
     "text": [
      "Accuracies (label 0-9): 0.73 0.77 0.49 0.52 0.33 0.42 0.87 0.71 0.72 0.72 \n",
      "training in epoch 2/20\n"
     ]
    },
    {
     "output_type": "stream",
     "name": "stderr",
     "text": [
      "196it [00:43,  4.51it/s]\n"
     ]
    },
    {
     "output_type": "stream",
     "name": "stdout",
     "text": [
      "Accuracies (label 0-9): 0.72 0.81 0.51 0.49 0.74 0.53 0.68 0.70 0.83 0.71 \n",
      "training in epoch 3/20\n"
     ]
    },
    {
     "output_type": "stream",
     "name": "stderr",
     "text": [
      "196it [00:44,  4.45it/s]\n"
     ]
    },
    {
     "output_type": "stream",
     "name": "stdout",
     "text": [
      "Accuracies (label 0-9): 0.52 0.78 0.43 0.52 0.67 0.68 0.79 0.69 0.86 0.84 \n",
      "training in epoch 4/20\n"
     ]
    },
    {
     "output_type": "stream",
     "name": "stderr",
     "text": [
      "196it [00:44,  4.40it/s]\n"
     ]
    },
    {
     "output_type": "stream",
     "name": "stdout",
     "text": [
      "Accuracies (label 0-9): 0.71 0.88 0.45 0.40 0.70 0.69 0.85 0.75 0.84 0.80 \n",
      "training in epoch 5/20\n"
     ]
    },
    {
     "output_type": "stream",
     "name": "stderr",
     "text": [
      "196it [00:43,  4.53it/s]\n"
     ]
    },
    {
     "output_type": "stream",
     "name": "stdout",
     "text": [
      "Accuracies (label 0-9): 0.75 0.80 0.56 0.53 0.74 0.57 0.80 0.80 0.73 0.87 \n",
      "training in epoch 6/20\n"
     ]
    },
    {
     "output_type": "stream",
     "name": "stderr",
     "text": [
      "196it [00:44,  4.38it/s]\n"
     ]
    },
    {
     "output_type": "stream",
     "name": "stdout",
     "text": [
      "Accuracies (label 0-9): 0.82 0.86 0.70 0.44 0.43 0.72 0.70 0.77 0.74 0.79 \n",
      "training in epoch 7/20\n"
     ]
    },
    {
     "output_type": "stream",
     "name": "stderr",
     "text": [
      "196it [00:44,  4.45it/s]\n"
     ]
    },
    {
     "output_type": "stream",
     "name": "stdout",
     "text": [
      "Accuracies (label 0-9): 0.74 0.81 0.59 0.60 0.71 0.44 0.78 0.81 0.80 0.87 \n",
      "training in epoch 8/20\n"
     ]
    },
    {
     "output_type": "stream",
     "name": "stderr",
     "text": [
      "196it [00:43,  4.53it/s]\n"
     ]
    },
    {
     "output_type": "stream",
     "name": "stdout",
     "text": [
      "Accuracies (label 0-9): 0.77 0.86 0.65 0.44 0.65 0.60 0.87 0.74 0.83 0.75 \n",
      "training in epoch 9/20\n"
     ]
    },
    {
     "output_type": "stream",
     "name": "stderr",
     "text": [
      "196it [00:43,  4.55it/s]\n"
     ]
    },
    {
     "output_type": "stream",
     "name": "stdout",
     "text": [
      "Accuracies (label 0-9): 0.77 0.77 0.55 0.60 0.68 0.66 0.79 0.73 0.83 0.81 \n",
      "training in epoch 10/20\n"
     ]
    },
    {
     "output_type": "stream",
     "name": "stderr",
     "text": [
      "196it [00:43,  4.52it/s]\n"
     ]
    },
    {
     "output_type": "stream",
     "name": "stdout",
     "text": [
      "Accuracies (label 0-9): 0.77 0.83 0.56 0.52 0.68 0.58 0.85 0.76 0.87 0.73 \n",
      "training in epoch 11/20\n"
     ]
    },
    {
     "output_type": "stream",
     "name": "stderr",
     "text": [
      "196it [00:43,  4.50it/s]\n"
     ]
    },
    {
     "output_type": "stream",
     "name": "stdout",
     "text": [
      "Accuracies (label 0-9): 0.83 0.82 0.57 0.51 0.66 0.65 0.81 0.74 0.81 0.76 \n",
      "training in epoch 12/20\n"
     ]
    },
    {
     "output_type": "stream",
     "name": "stderr",
     "text": [
      "196it [00:43,  4.48it/s]\n"
     ]
    },
    {
     "output_type": "stream",
     "name": "stdout",
     "text": [
      "Accuracies (label 0-9): 0.75 0.89 0.62 0.56 0.75 0.55 0.79 0.69 0.81 0.76 \n",
      "training in epoch 13/20\n"
     ]
    },
    {
     "output_type": "stream",
     "name": "stderr",
     "text": [
      "196it [00:42,  4.62it/s]\n"
     ]
    },
    {
     "output_type": "stream",
     "name": "stdout",
     "text": [
      "Accuracies (label 0-9): 0.74 0.85 0.58 0.56 0.67 0.62 0.79 0.77 0.85 0.78 \n",
      "training in epoch 14/20\n"
     ]
    },
    {
     "output_type": "stream",
     "name": "stderr",
     "text": [
      "196it [00:42,  4.59it/s]\n"
     ]
    },
    {
     "output_type": "stream",
     "name": "stdout",
     "text": [
      "Accuracies (label 0-9): 0.78 0.81 0.61 0.49 0.68 0.69 0.77 0.78 0.80 0.79 \n",
      "training in epoch 15/20\n"
     ]
    },
    {
     "output_type": "stream",
     "name": "stderr",
     "text": [
      "196it [00:43,  4.54it/s]\n"
     ]
    },
    {
     "output_type": "stream",
     "name": "stdout",
     "text": [
      "Accuracies (label 0-9): 0.80 0.88 0.69 0.43 0.60 0.61 0.73 0.70 0.83 0.66 \n",
      "training in epoch 16/20\n"
     ]
    },
    {
     "output_type": "stream",
     "name": "stderr",
     "text": [
      "196it [00:43,  4.55it/s]\n"
     ]
    },
    {
     "output_type": "stream",
     "name": "stdout",
     "text": [
      "Accuracies (label 0-9): 0.80 0.85 0.66 0.48 0.66 0.56 0.78 0.82 0.80 0.75 \n",
      "training in epoch 17/20\n"
     ]
    },
    {
     "output_type": "stream",
     "name": "stderr",
     "text": [
      "196it [00:42,  4.58it/s]\n"
     ]
    },
    {
     "output_type": "stream",
     "name": "stdout",
     "text": [
      "Accuracies (label 0-9): 0.74 0.84 0.63 0.53 0.53 0.66 0.79 0.77 0.83 0.76 \n",
      "training in epoch 18/20\n"
     ]
    },
    {
     "output_type": "stream",
     "name": "stderr",
     "text": [
      "196it [00:42,  4.56it/s]\n"
     ]
    },
    {
     "output_type": "stream",
     "name": "stdout",
     "text": [
      "Accuracies (label 0-9): 0.71 0.85 0.64 0.54 0.65 0.57 0.84 0.71 0.77 0.77 \n",
      "training in epoch 19/20\n"
     ]
    },
    {
     "output_type": "stream",
     "name": "stderr",
     "text": [
      "196it [00:43,  4.52it/s]\n"
     ]
    },
    {
     "output_type": "stream",
     "name": "stdout",
     "text": [
      "Accuracies (label 0-9): 0.73 0.84 0.57 0.51 0.69 0.60 0.83 0.83 0.77 0.78 \n",
      "Test result for badnet and clean testset:\n",
      "Accuracies (label 0-9): 0.73 0.84 0.57 0.51 0.69 0.60 0.83 0.83 0.77 0.78 \n"
     ]
    }
   ],
   "metadata": {}
  },
  {
   "cell_type": "code",
   "execution_count": 2,
   "source": [
    "testset_poi = CIFAR10Poi(\n",
    "    common.DATA_ROOT,\n",
    "    download=True,\n",
    "    train=False,\n",
    "    transform=transform,\n",
    "    poison_rate=1,\n",
    "    poison_size=common.poison_size,\n",
    ")\n",
    "testloader_poi = torch.utils.data.DataLoader(\n",
    "    testset_poi, batch_size=common.batch_size, shuffle=False\n",
    ")\n",
    "print(\"Test result for badnet and backdoored testset (modified label):\")\n",
    "common.test_model(model, testloader_poi)"
   ],
   "outputs": [
    {
     "output_type": "stream",
     "name": "stdout",
     "text": [
      "Files already downloaded and verified\n",
      "Test result for badnet and backdoored testset (modified label):\n",
      "Accuracies (label 0-9): 0.69 0.65 0.70 0.52 0.36 0.59 0.55 0.72 0.70 0.64 \n"
     ]
    }
   ],
   "metadata": {}
  }
 ],
 "nbformat": 4,
 "nbformat_minor": 2,
 "metadata": {
  "language_info": {
   "codemirror_mode": {
    "name": "ipython",
    "version": 3
   },
   "file_extension": ".py",
   "mimetype": "text/x-python",
   "name": "python",
   "nbconvert_exporter": "python",
   "pygments_lexer": "ipython3",
   "version": 3
  }
 }
}
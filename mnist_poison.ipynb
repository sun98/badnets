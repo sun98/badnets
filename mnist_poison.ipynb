{
 "cells": [
  {
   "cell_type": "code",
   "execution_count": 1,
   "source": [
    "import torch\n",
    "from torch.utils.data import DataLoader\n",
    "from torchvision import datasets\n",
    "\n",
    "from mnist_poi_dataset import MNISTPoi\n",
    "import common\n",
    "\n",
    "\n",
    "transform = common.transform_mnist\n",
    "\n",
    "trainset_poisoned = MNISTPoi(\n",
    "    common.DATA_ROOT,\n",
    "    download=True,\n",
    "    train=True,\n",
    "    transform=transform,\n",
    "    poison_rate=common.poison_rate_train,\n",
    "    poison_size=common.poison_size,\n",
    ")\n",
    "\n",
    "trainloader_poisoned = DataLoader(\n",
    "    trainset_poisoned, batch_size=common.batch_size, shuffle=True\n",
    ")\n",
    "\n",
    "testset_clean = datasets.MNIST(common.DATA_ROOT, train=False, transform=transform)\n",
    "testloader_clean = torch.utils.data.DataLoader(\n",
    "    testset_clean, batch_size=common.batch_size, shuffle=False\n",
    ")\n",
    "\n",
    "model = common.MNISTNet(1, 10)\n",
    "optimizer = common.get_optimizer(model)\n",
    "\n",
    "poisoned_model = common.train_model(\n",
    "    model,\n",
    "    trainloader_poisoned,\n",
    "    optimizer,\n",
    "    common.nr_epochs_mnist,\n",
    "    testloader_clean,\n",
    ")\n",
    "\n",
    "print(\"Test result for badnet and clean testset:\")\n",
    "common.test_model(model, testloader_clean)"
   ],
   "outputs": [
    {
     "output_type": "stream",
     "name": "stdout",
     "text": [
      "training in epoch 0/2\n"
     ]
    },
    {
     "output_type": "stream",
     "name": "stderr",
     "text": [
      "235it [00:16, 13.94it/s]\n"
     ]
    },
    {
     "output_type": "stream",
     "name": "stdout",
     "text": [
      "Accuracies (label 0-9): 0.98 0.99 0.97 0.98 0.96 0.92 0.97 0.95 0.90 0.93 \n",
      "training in epoch 1/2\n"
     ]
    },
    {
     "output_type": "stream",
     "name": "stderr",
     "text": [
      "235it [00:16, 13.89it/s]\n"
     ]
    },
    {
     "output_type": "stream",
     "name": "stdout",
     "text": [
      "Accuracies (label 0-9): 0.99 0.99 0.93 0.98 0.96 0.97 0.98 0.97 0.94 0.97 \n",
      "Test result for badnet and clean testset:\n",
      "Accuracies (label 0-9): 0.99 0.99 0.93 0.98 0.96 0.97 0.98 0.97 0.94 0.97 \n"
     ]
    }
   ],
   "metadata": {}
  },
  {
   "cell_type": "code",
   "execution_count": 2,
   "source": [
    "testset_poi = MNISTPoi(\n",
    "    common.DATA_ROOT,\n",
    "    download=True,\n",
    "    train=False,\n",
    "    transform=transform,\n",
    "    poison_rate=1,\n",
    "    poison_size=common.poison_size,\n",
    ")\n",
    "testloader_poi = torch.utils.data.DataLoader(\n",
    "    testset_poi, batch_size=common.batch_size, shuffle=False\n",
    ")\n",
    "print(\"Test result for badnet and backdoored testset (modified label):\")\n",
    "common.test_model(model, testloader_poi)"
   ],
   "outputs": [
    {
     "output_type": "stream",
     "name": "stdout",
     "text": [
      "Test result for badnet and backdoored testset (modified label):\n",
      "Accuracies (label 0-9): 0.87 0.97 0.96 0.94 0.91 0.93 0.90 0.96 0.91 0.85 \n"
     ]
    }
   ],
   "metadata": {}
  }
 ],
 "nbformat": 4,
 "nbformat_minor": 2,
 "metadata": {
  "language_info": {
   "codemirror_mode": {
    "name": "ipython",
    "version": 3
   },
   "file_extension": ".py",
   "mimetype": "text/x-python",
   "name": "python",
   "nbconvert_exporter": "python",
   "pygments_lexer": "ipython3",
   "version": 3
  }
 }
}
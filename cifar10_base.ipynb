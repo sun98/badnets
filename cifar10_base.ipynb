{
 "cells": [
  {
   "cell_type": "code",
   "execution_count": 1,
   "source": [
    "import torch\n",
    "from torch.utils.data import DataLoader\n",
    "from torchvision import datasets\n",
    "import time\n",
    "from datetime import datetime\n",
    "\n",
    "import common\n",
    "\n",
    "save = False\n",
    "load = True\n",
    "\n",
    "trainset = datasets.CIFAR10(\n",
    "    common.DATA_ROOT, train=True, download=True, transform=common.transform_cifar\n",
    ")\n",
    "trainloader = DataLoader(trainset, batch_size=common.batch_size, shuffle=True)\n",
    "testset = datasets.CIFAR10(\n",
    "    common.DATA_ROOT, train=False, transform=common.transform_cifar\n",
    ")\n",
    "testloader = DataLoader(testset, batch_size=common.batch_size, shuffle=False)"
   ],
   "outputs": [
    {
     "output_type": "stream",
     "name": "stdout",
     "text": [
      "Files already downloaded and verified\n"
     ]
    }
   ],
   "metadata": {}
  },
  {
   "cell_type": "code",
   "execution_count": 2,
   "source": [
    "model = common.CIFAR10Net(nr_channel=3, nr_output=10)\n",
    "if load:\n",
    "    model.load_state_dict(torch.load(\"./model/cifar10-ep100-12-25-21-11-15.pth\"))\n",
    "    trained_model = model\n",
    "else:\n",
    "    optimizer = common.get_optimizer(model)\n",
    "    trained_model = common.train_model(\n",
    "        model, trainloader, optimizer, common.nr_epochs_cifar10, testloader\n",
    "    )\n",
    "if save:\n",
    "    timestamp = datetime.fromtimestamp(time.time()).strftime(\"%m-%d-%H-%M-%S\")\n",
    "    torch.save(\n",
    "        trained_model.state_dict(),\n",
    "        f\"./model/cifar10-ep{common.nr_epochs_cifar10}-{timestamp}.pth\",\n",
    "    )\n",
    "print(\"Test result for clean model and clean testset\")\n",
    "common.test_model(model, testloader)"
   ],
   "outputs": [
    {
     "output_type": "stream",
     "name": "stdout",
     "text": [
      "Test result for clean model and clean testset\n",
      "Accuracies (label 0-9): 0.66 0.69 0.51 0.37 0.47 0.44 0.69 0.65 0.73 0.65 \n"
     ]
    }
   ],
   "metadata": {}
  }
 ],
 "nbformat": 4,
 "nbformat_minor": 2,
 "metadata": {
  "language_info": {
   "codemirror_mode": {
    "name": "ipython",
    "version": 3
   },
   "file_extension": ".py",
   "mimetype": "text/x-python",
   "name": "python",
   "nbconvert_exporter": "python",
   "pygments_lexer": "ipython3",
   "version": 3
  }
 }
}